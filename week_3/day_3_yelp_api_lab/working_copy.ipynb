{
 "cells": [
  {
   "cell_type": "code",
   "execution_count": null,
   "metadata": {},
   "outputs": [],
   "source": [
    "#not sure what this does\n",
    "!pip install mysql-connector-python"
   ]
  },
  {
   "cell_type": "code",
   "execution_count": null,
   "metadata": {},
   "outputs": [],
   "source": [
    "#import relevant libs\n",
    "import json\n",
    "import pandas as pd\n",
    "import mysql.connector\n",
    "from mysql.connector import errorcode\n",
    "from datetime import date, datetime, timedelta\n",
    "import requests"
   ]
  },
  {
   "cell_type": "code",
   "execution_count": null,
   "metadata": {},
   "outputs": [],
   "source": [
    "api_key = 'pKqbMVplJJtJ_GAnrsNEcGBdJLIesOu-fBmpWdJVPhiWSmf_Va3k50VHG3AsxKQTrNo3kaL2HCrw1bGzND0GMWMKzGIoFxGy6zgiWBz1ysTau_hbTd_yb_BXn_MpXnYx'\n",
    "client_id = 'H1K0c1q-MDYv5bA0ZgZ4XA'\n",
    "term = 'Greek'\n",
    "location = 'Astoria NY'\n",
    "SEARCH_LIMIT = 50\n",
    "url_params = {'term': term.replace(' ', '+'), 'location': location.replace(' ', '+'), 'limit': SEARCH_LIMIT, 'offset' : None}"
   ]
  },
  {
   "cell_type": "code",
   "execution_count": null,
   "metadata": {
    "scrolled": true
   },
   "outputs": [],
   "source": [
    "#Yelp connection function\n",
    "def yelp_call(url_params, api_key):\n",
    "    url = 'https://api.yelp.com/v3/businesses/search'\n",
    "    headers = {'Authorization': 'Bearer {}'.format(api_key)}\n",
    "    response = requests.get(url, headers=headers, params=url_params)\n",
    "    return response"
   ]
  },
  {
   "cell_type": "code",
   "execution_count": null,
   "metadata": {},
   "outputs": [],
   "source": [
    "#Parses data into lists which we then coerce into a list of tuples (exceptions made for missing vals)\n",
    "def parse_results(results):\n",
    "    r = results.json()\n",
    "    id_list = []\n",
    "    alias_list = []\n",
    "    name_list = []\n",
    "    review_count_list = []\n",
    "    rating_list = []\n",
    "    price_list = []\n",
    "    final = []\n",
    "    for i in range(len(r['businesses'])):\n",
    "        if 'id' in r['businesses'][i].keys():\n",
    "            id_list.append(r['businesses'][i]['id'])\n",
    "        else:\n",
    "            id_list.append('n/a')\n",
    "        if 'alias' in r['businesses'][i].keys():\n",
    "            alias_list.append(r['businesses'][i]['alias'])\n",
    "        else:\n",
    "            alias_list.append('n/a')\n",
    "        if 'name' in r['businesses'][i].keys():\n",
    "            name_list.append(r['businesses'][i]['name'])\n",
    "        else:\n",
    "            name_list.append('n/a')\n",
    "        if 'review_count' in r['businesses'][i].keys():\n",
    "            review_count_list.append(r['businesses'][i]['review_count'])\n",
    "        else:\n",
    "            review_count_list.append('n/a')\n",
    "        if 'rating' in r['businesses'][i].keys():\n",
    "            rating_list.append(r['businesses'][i]['rating'])\n",
    "        else:\n",
    "            rating_list.append('n/a')\n",
    "        if 'price' in r['businesses'][i].keys():\n",
    "            price_list.append(len(r['businesses'][i]['price']))\n",
    "        else:\n",
    "            price_list.append('n/a')\n",
    "        \n",
    "        final.append((id_list[i], alias_list[i], name_list[i], review_count_list[i], rating_list[i], price_list[i]))\n",
    "    return final"
   ]
  },
  {
   "cell_type": "code",
   "execution_count": null,
   "metadata": {},
   "outputs": [],
   "source": [
    "#Database name initialized\n",
    "yelp_db = \"Yelp_db\""
   ]
  },
  {
   "cell_type": "code",
   "execution_count": null,
   "metadata": {},
   "outputs": [],
   "source": [
    "#AWS server/db connection\n",
    "cnx = mysql.connector.connect(\n",
    "    host = \"database-1.c3cnzogwpqkc.us-east-2.rds.amazonaws.com\",\n",
    "    user = \"admin\",\n",
    "    passwd = \"Psbz67j00\",\n",
    "    port = 3306,\n",
    "    database = 'Yelp_db'\n",
    ")\n",
    "cur = cnx.cursor()"
   ]
  },
  {
   "cell_type": "code",
   "execution_count": null,
   "metadata": {},
   "outputs": [],
   "source": [
    "#Test cursor connection\n",
    "cur"
   ]
  },
  {
   "cell_type": "code",
   "execution_count": null,
   "metadata": {},
   "outputs": [],
   "source": [
    "#Function to create our database\n",
    "def create_database(cursor, database):\n",
    "    try:\n",
    "        cursor.execute(\n",
    "            \"CREATE DATABASE {} DEFAULT CHARACTER SET 'utf8'\".format(database))\n",
    "    except mysql.connector.Error as err:\n",
    "        print(\"Failed creating database: {}\".format(err))\n",
    "        exit(1)"
   ]
  },
  {
   "cell_type": "code",
   "execution_count": null,
   "metadata": {},
   "outputs": [],
   "source": [
    "#Call function to actually create the database\n",
    "create_database(cur, yelp_db)"
   ]
  },
  {
   "cell_type": "code",
   "execution_count": null,
   "metadata": {},
   "outputs": [],
   "source": [
    "#Code to create tables in the database we just created\n",
    "DB_NAME = 'Yelp_db'\n",
    "\n",
    "TABLES = {}\n",
    "TABLES['businesses'] = (\n",
    "    \"CREATE TABLE businesses (\"\n",
    "    \"  id varchar(50) NOT NULL,\"\n",
    "    \"  alias varchar(50) NOT NULL,\"\n",
    "    \"  name varchar(50) NOT NULL,\"\n",
    "    \"  review_count int(10) NOT NULL,\"\n",
    "    \"  rating float(10) NOT NULL,\"\n",
    "    \"  price varchar(10) NOT NULL\"\n",
    "    \" ) ENGINE=InnoDB\")\n",
    "\n",
    "TABLES = {}\n",
    "TABLES['reviews'] = (\n",
    "    \"CREATE TABLE reviews (\"\n",
    "    \"  id varchar(50) NOT NULL,\"\n",
    "    \"  text varchar(250) NOT NULL,\"\n",
    "    \"  time varchar(50)\"\n",
    "    \") ENGINE=InnoDB\")"
   ]
  },
  {
   "cell_type": "code",
   "execution_count": null,
   "metadata": {},
   "outputs": [],
   "source": [
    "#Loops through to confirm whether tables have been created as we desired\n",
    "for table_name in TABLES:\n",
    "    table_description = TABLES[table_name]\n",
    "    try:\n",
    "        print(\"Creating table {}: \".format(table_name), end='')\n",
    "        cur.execute(table_description)\n",
    "    except mysql.connector.Error as err:\n",
    "        if err.errno == errorcode.ER_TABLE_EXISTS_ERROR:\n",
    "            print(\"already exists.\")\n",
    "        else:\n",
    "            print(err.msg)\n",
    "    else:\n",
    "        print(\"OK\")\n",
    "\n",
    "#cur.close()\n",
    "#cnx.close()"
   ]
  },
  {
   "cell_type": "code",
   "execution_count": null,
   "metadata": {},
   "outputs": [],
   "source": [
    "#re-establish connection with AWS\n",
    "cnx = mysql.connector.connect(\n",
    "    host = \"database-1.c3cnzogwpqkc.us-east-2.rds.amazonaws.com\",\n",
    "    user = \"admin\",\n",
    "    passwd = \"Psbz67j00\",\n",
    "    port = 3306,\n",
    "    database = 'Yelp_db'\n",
    ")\n",
    "cur = cnx.cursor()"
   ]
  },
  {
   "cell_type": "code",
   "execution_count": null,
   "metadata": {},
   "outputs": [],
   "source": [
    "#Function to insert the values into our database\n",
    "def db_insert(connection, cursor, parsed_results):\n",
    "    add_business = (\"INSERT INTO businesses \"\n",
    "               \"(id, alias, name, review_count, rating, price) \"\n",
    "               \"VALUES (%s, %s, %s, %s, %s, %s)\")\n",
    "    cursor.executemany(add_business, parsed_results)\n",
    "    cnx.commit()"
   ]
  },
  {
   "cell_type": "code",
   "execution_count": null,
   "metadata": {},
   "outputs": [],
   "source": [
    "# create a variable  to keep track of which result you are in. \n",
    "our_count = 0\n",
    "\n",
    "#set up a while loop to go through and grab the result \n",
    "while our_count < 1000: \n",
    "    url_params['offset'] = our_count\n",
    "    results = yelp_call(url_params, api_key)\n",
    "    tup = parse_results(results)\n",
    "    db_insert(cnx, cur, tup)\n",
    "    our_count += 50"
   ]
  },
  {
   "cell_type": "code",
   "execution_count": null,
   "metadata": {},
   "outputs": [],
   "source": [
    "cur.execute(\"\"\"SELECT id FROM businesses;\"\"\")\n",
    "business_ids = cur.fetchall()\n",
    "print(business_ids)"
   ]
  },
  {
   "cell_type": "code",
   "execution_count": null,
   "metadata": {},
   "outputs": [],
   "source": [
    "business_set = set(business_ids)\n",
    "type(business_set)"
   ]
  },
  {
   "cell_type": "code",
   "execution_count": null,
   "metadata": {},
   "outputs": [],
   "source": [
    "biz_list = []\n",
    "for biz in business_set:\n",
    "    biz_list.append(biz[0])\n",
    "print(biz_list)"
   ]
  },
  {
   "cell_type": "code",
   "execution_count": null,
   "metadata": {
    "scrolled": false
   },
   "outputs": [],
   "source": [
    "def yelp_review_call(results):\n",
    "    data = []\n",
    "    review_list = []\n",
    "    groups_of_3_reviews = []\n",
    "    for element in results:\n",
    "        response = requests.get('https://api.yelp.com/v3/businesses/{}/reviews'.format(element), headers={'Authorization': 'Bearer {}'.format(api_key)})\n",
    "        data.append(response.json())\n",
    "    for item in data:\n",
    "        review_list.append(item['reviews'])\n",
    "    for i in review_list:\n",
    "        if len(i) == 3:\n",
    "            groups_of_3_reviews.append([(i[0]['text'], i[0]['time_created']), (i[1]['text'], i[1]['time_created']), (i[2]['text'], i[2]['time_created'])])\n",
    "        elif len(i) == 2:\n",
    "            groups_of_3_reviews.append([(i[0]['text'], i[0]['time_created']), (i[1]['text'], i[1]['time_created'])])\n",
    "        elif len(i) == 1:\n",
    "            groups_of_3_reviews.append([(i[0]['text'], i[0]['time_created'])])\n",
    "        else:\n",
    "            groups_of_3_reviews.append([('No recent reviews', 'n/a')])\n",
    "    return groups_of_3_reviews\n",
    "revs = yelp_review_call(biz_list)"
   ]
  },
  {
   "cell_type": "code",
   "execution_count": null,
   "metadata": {},
   "outputs": [],
   "source": [
    "print(biz_list)"
   ]
  },
  {
   "cell_type": "code",
   "execution_count": null,
   "metadata": {},
   "outputs": [],
   "source": [
    "print(revs)"
   ]
  },
  {
   "cell_type": "code",
   "execution_count": null,
   "metadata": {},
   "outputs": [],
   "source": [
    "print"
   ]
  },
  {
   "cell_type": "code",
   "execution_count": null,
   "metadata": {},
   "outputs": [],
   "source": [
    "def combo(ids, groups):\n",
    "    id_list = []\n",
    "    text_list = []\n",
    "    time_list = []\n",
    "    count = 0\n",
    "    combo_list = []\n",
    "    for i in groups:\n",
    "        if len(i) == 3:\n",
    "            id_list.append(ids[count])\n",
    "            id_list.append(ids[count])\n",
    "            id_list.append(ids[count])\n",
    "            text_list.append(i[0][0])\n",
    "            text_list.append(i[1][0])\n",
    "            text_list.append(i[2][0])\n",
    "            time_list.append(i[0][1])\n",
    "            time_list.append(i[1][1])\n",
    "            time_list.append(i[2][1])\n",
    "        elif len(i) == 2:\n",
    "            id_list.append(ids[count])\n",
    "            id_list.append(ids[count])\n",
    "            text_list.append(i[0][0])\n",
    "            text_list.append(i[1][0])\n",
    "            time_list.append(i[0][1])\n",
    "            time_list.append(i[1][1])\n",
    "        elif len(i) == 1:\n",
    "            id_list.append(ids[count])\n",
    "            text_list.append(i[0][0])\n",
    "            time_list.append(i[0][1])\n",
    "        else:\n",
    "            id_list.append(ids[count])\n",
    "            text_list.append('No recent reviews')\n",
    "            time_list.append('n/a')\n",
    "        count += 1\n",
    "    for i in range(len(id_list)):\n",
    "        combo_list.append((id_list[i], text_list[i], time_list[i]))\n",
    "    return combo_list"
   ]
  },
  {
   "cell_type": "code",
   "execution_count": null,
   "metadata": {},
   "outputs": [],
   "source": [
    "combo_result = combo(biz_list, revs)\n",
    "print(combo_result)"
   ]
  },
  {
   "cell_type": "code",
   "execution_count": null,
   "metadata": {},
   "outputs": [],
   "source": [
    "#Function to insert the values into our review database\n",
    "def db_insert(connection, cursor, new_parsed_results):\n",
    "    add_business = (\"INSERT INTO reviews \"\n",
    "               \"(id, text, time) \"\n",
    "               \"VALUES (%s, %s, %s)\")\n",
    "    cursor.executemany(add_business, new_parsed_results)\n",
    "    cnx.commit()"
   ]
  },
  {
   "cell_type": "code",
   "execution_count": null,
   "metadata": {},
   "outputs": [],
   "source": [
    "db_insert(cnx, cur, combo_result)"
   ]
  },
  {
   "cell_type": "code",
   "execution_count": null,
   "metadata": {},
   "outputs": [],
   "source": []
  }
 ],
 "metadata": {
  "kernelspec": {
   "display_name": "Python [conda env:learn-env] *",
   "language": "python",
   "name": "conda-env-learn-env-py"
  },
  "language_info": {
   "codemirror_mode": {
    "name": "ipython",
    "version": 3
   },
   "file_extension": ".py",
   "mimetype": "text/x-python",
   "name": "python",
   "nbconvert_exporter": "python",
   "pygments_lexer": "ipython3",
   "version": "3.6.9"
  }
 },
 "nbformat": 4,
 "nbformat_minor": 2
}
