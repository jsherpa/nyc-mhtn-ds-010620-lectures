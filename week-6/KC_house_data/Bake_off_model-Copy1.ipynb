{
 "cells": [
  {
   "cell_type": "code",
   "execution_count": 109,
   "metadata": {},
   "outputs": [],
   "source": [
    "import pandas as pd\n",
    "pd.set_option('display.max_columns', 300)\n",
    "import numpy as np\n",
    "from matplotlib import pyplot as plt\n",
    "from sklearn import linear_model\n",
    "from sklearn.linear_model import Lasso, Ridge, LinearRegression\n",
    "from sklearn.model_selection import train_test_split\n",
    "from sklearn import metrics\n",
    "from sklearn.preprocessing import PolynomialFeatures\n",
    "from scipy.stats import shapiro\n",
    "from scipy.stats import normaltest\n",
    "from sklearn.preprocessing import StandardScaler, RobustScaler\n",
    "import seaborn as sns\n",
    "from statsmodels.formula.api import ols\n",
    "import statsmodels.api as sm\n",
    "sns.set(style=\"whitegrid\")"
   ]
  },
  {
   "cell_type": "code",
   "execution_count": 4,
   "metadata": {},
   "outputs": [],
   "source": [
    "df = pd.read_csv('kc_house_data_train.csv')\n"
   ]
  },
  {
   "cell_type": "code",
   "execution_count": 5,
   "metadata": {},
   "outputs": [
    {
     "data": {
      "text/html": [
       "<div>\n",
       "<style scoped>\n",
       "    .dataframe tbody tr th:only-of-type {\n",
       "        vertical-align: middle;\n",
       "    }\n",
       "\n",
       "    .dataframe tbody tr th {\n",
       "        vertical-align: top;\n",
       "    }\n",
       "\n",
       "    .dataframe thead th {\n",
       "        text-align: right;\n",
       "    }\n",
       "</style>\n",
       "<table border=\"1\" class=\"dataframe\">\n",
       "  <thead>\n",
       "    <tr style=\"text-align: right;\">\n",
       "      <th></th>\n",
       "      <th>Unnamed: 0</th>\n",
       "      <th>id</th>\n",
       "      <th>date</th>\n",
       "      <th>price</th>\n",
       "      <th>bedrooms</th>\n",
       "      <th>bathrooms</th>\n",
       "      <th>sqft_living</th>\n",
       "      <th>sqft_lot</th>\n",
       "      <th>floors</th>\n",
       "      <th>waterfront</th>\n",
       "      <th>view</th>\n",
       "      <th>condition</th>\n",
       "      <th>grade</th>\n",
       "      <th>sqft_above</th>\n",
       "      <th>sqft_basement</th>\n",
       "      <th>yr_built</th>\n",
       "      <th>yr_renovated</th>\n",
       "      <th>zipcode</th>\n",
       "      <th>lat</th>\n",
       "      <th>long</th>\n",
       "      <th>sqft_living15</th>\n",
       "      <th>sqft_lot15</th>\n",
       "    </tr>\n",
       "  </thead>\n",
       "  <tbody>\n",
       "    <tr>\n",
       "      <td>0</td>\n",
       "      <td>0</td>\n",
       "      <td>2591820310</td>\n",
       "      <td>20141006T000000</td>\n",
       "      <td>365000.0</td>\n",
       "      <td>4</td>\n",
       "      <td>2.25</td>\n",
       "      <td>2070</td>\n",
       "      <td>8893</td>\n",
       "      <td>2.0</td>\n",
       "      <td>0</td>\n",
       "      <td>0</td>\n",
       "      <td>4</td>\n",
       "      <td>8</td>\n",
       "      <td>2070</td>\n",
       "      <td>0</td>\n",
       "      <td>1986</td>\n",
       "      <td>0</td>\n",
       "      <td>98058</td>\n",
       "      <td>47.4388</td>\n",
       "      <td>-122.162</td>\n",
       "      <td>2390</td>\n",
       "      <td>7700</td>\n",
       "    </tr>\n",
       "    <tr>\n",
       "      <td>1</td>\n",
       "      <td>1</td>\n",
       "      <td>7974200820</td>\n",
       "      <td>20140821T000000</td>\n",
       "      <td>865000.0</td>\n",
       "      <td>5</td>\n",
       "      <td>3.00</td>\n",
       "      <td>2900</td>\n",
       "      <td>6730</td>\n",
       "      <td>1.0</td>\n",
       "      <td>0</td>\n",
       "      <td>0</td>\n",
       "      <td>5</td>\n",
       "      <td>8</td>\n",
       "      <td>1830</td>\n",
       "      <td>1070</td>\n",
       "      <td>1977</td>\n",
       "      <td>0</td>\n",
       "      <td>98115</td>\n",
       "      <td>47.6784</td>\n",
       "      <td>-122.285</td>\n",
       "      <td>2370</td>\n",
       "      <td>6283</td>\n",
       "    </tr>\n",
       "    <tr>\n",
       "      <td>2</td>\n",
       "      <td>2</td>\n",
       "      <td>7701450110</td>\n",
       "      <td>20140815T000000</td>\n",
       "      <td>1038000.0</td>\n",
       "      <td>4</td>\n",
       "      <td>2.50</td>\n",
       "      <td>3770</td>\n",
       "      <td>10893</td>\n",
       "      <td>2.0</td>\n",
       "      <td>0</td>\n",
       "      <td>2</td>\n",
       "      <td>3</td>\n",
       "      <td>11</td>\n",
       "      <td>3770</td>\n",
       "      <td>0</td>\n",
       "      <td>1997</td>\n",
       "      <td>0</td>\n",
       "      <td>98006</td>\n",
       "      <td>47.5646</td>\n",
       "      <td>-122.129</td>\n",
       "      <td>3710</td>\n",
       "      <td>9685</td>\n",
       "    </tr>\n",
       "    <tr>\n",
       "      <td>3</td>\n",
       "      <td>3</td>\n",
       "      <td>9522300010</td>\n",
       "      <td>20150331T000000</td>\n",
       "      <td>1490000.0</td>\n",
       "      <td>3</td>\n",
       "      <td>3.50</td>\n",
       "      <td>4560</td>\n",
       "      <td>14608</td>\n",
       "      <td>2.0</td>\n",
       "      <td>0</td>\n",
       "      <td>2</td>\n",
       "      <td>3</td>\n",
       "      <td>12</td>\n",
       "      <td>4560</td>\n",
       "      <td>0</td>\n",
       "      <td>1990</td>\n",
       "      <td>0</td>\n",
       "      <td>98034</td>\n",
       "      <td>47.6995</td>\n",
       "      <td>-122.228</td>\n",
       "      <td>4050</td>\n",
       "      <td>14226</td>\n",
       "    </tr>\n",
       "    <tr>\n",
       "      <td>4</td>\n",
       "      <td>4</td>\n",
       "      <td>9510861140</td>\n",
       "      <td>20140714T000000</td>\n",
       "      <td>711000.0</td>\n",
       "      <td>3</td>\n",
       "      <td>2.50</td>\n",
       "      <td>2550</td>\n",
       "      <td>5376</td>\n",
       "      <td>2.0</td>\n",
       "      <td>0</td>\n",
       "      <td>0</td>\n",
       "      <td>3</td>\n",
       "      <td>9</td>\n",
       "      <td>2550</td>\n",
       "      <td>0</td>\n",
       "      <td>2004</td>\n",
       "      <td>0</td>\n",
       "      <td>98052</td>\n",
       "      <td>47.6647</td>\n",
       "      <td>-122.083</td>\n",
       "      <td>2250</td>\n",
       "      <td>4050</td>\n",
       "    </tr>\n",
       "    <tr>\n",
       "      <td>...</td>\n",
       "      <td>...</td>\n",
       "      <td>...</td>\n",
       "      <td>...</td>\n",
       "      <td>...</td>\n",
       "      <td>...</td>\n",
       "      <td>...</td>\n",
       "      <td>...</td>\n",
       "      <td>...</td>\n",
       "      <td>...</td>\n",
       "      <td>...</td>\n",
       "      <td>...</td>\n",
       "      <td>...</td>\n",
       "      <td>...</td>\n",
       "      <td>...</td>\n",
       "      <td>...</td>\n",
       "      <td>...</td>\n",
       "      <td>...</td>\n",
       "      <td>...</td>\n",
       "      <td>...</td>\n",
       "      <td>...</td>\n",
       "      <td>...</td>\n",
       "      <td>...</td>\n",
       "    </tr>\n",
       "    <tr>\n",
       "      <td>17285</td>\n",
       "      <td>17285</td>\n",
       "      <td>627300195</td>\n",
       "      <td>20150303T000000</td>\n",
       "      <td>750000.0</td>\n",
       "      <td>5</td>\n",
       "      <td>2.50</td>\n",
       "      <td>3240</td>\n",
       "      <td>9960</td>\n",
       "      <td>1.0</td>\n",
       "      <td>0</td>\n",
       "      <td>1</td>\n",
       "      <td>3</td>\n",
       "      <td>8</td>\n",
       "      <td>2020</td>\n",
       "      <td>1220</td>\n",
       "      <td>1958</td>\n",
       "      <td>0</td>\n",
       "      <td>98008</td>\n",
       "      <td>47.5858</td>\n",
       "      <td>-122.112</td>\n",
       "      <td>2730</td>\n",
       "      <td>10400</td>\n",
       "    </tr>\n",
       "    <tr>\n",
       "      <td>17286</td>\n",
       "      <td>17286</td>\n",
       "      <td>8819900270</td>\n",
       "      <td>20140520T000000</td>\n",
       "      <td>440000.0</td>\n",
       "      <td>2</td>\n",
       "      <td>1.75</td>\n",
       "      <td>1300</td>\n",
       "      <td>4000</td>\n",
       "      <td>2.0</td>\n",
       "      <td>0</td>\n",
       "      <td>0</td>\n",
       "      <td>3</td>\n",
       "      <td>7</td>\n",
       "      <td>1300</td>\n",
       "      <td>0</td>\n",
       "      <td>1948</td>\n",
       "      <td>0</td>\n",
       "      <td>98105</td>\n",
       "      <td>47.6687</td>\n",
       "      <td>-122.288</td>\n",
       "      <td>1350</td>\n",
       "      <td>4013</td>\n",
       "    </tr>\n",
       "    <tr>\n",
       "      <td>17287</td>\n",
       "      <td>17287</td>\n",
       "      <td>3816300095</td>\n",
       "      <td>20140514T000000</td>\n",
       "      <td>310000.0</td>\n",
       "      <td>3</td>\n",
       "      <td>1.00</td>\n",
       "      <td>1050</td>\n",
       "      <td>9876</td>\n",
       "      <td>1.0</td>\n",
       "      <td>0</td>\n",
       "      <td>0</td>\n",
       "      <td>3</td>\n",
       "      <td>7</td>\n",
       "      <td>1050</td>\n",
       "      <td>0</td>\n",
       "      <td>1953</td>\n",
       "      <td>0</td>\n",
       "      <td>98028</td>\n",
       "      <td>47.7635</td>\n",
       "      <td>-122.262</td>\n",
       "      <td>1760</td>\n",
       "      <td>9403</td>\n",
       "    </tr>\n",
       "    <tr>\n",
       "      <td>17288</td>\n",
       "      <td>17288</td>\n",
       "      <td>122069107</td>\n",
       "      <td>20141204T000000</td>\n",
       "      <td>427500.0</td>\n",
       "      <td>3</td>\n",
       "      <td>1.50</td>\n",
       "      <td>1900</td>\n",
       "      <td>43186</td>\n",
       "      <td>1.5</td>\n",
       "      <td>0</td>\n",
       "      <td>0</td>\n",
       "      <td>4</td>\n",
       "      <td>7</td>\n",
       "      <td>1300</td>\n",
       "      <td>600</td>\n",
       "      <td>1971</td>\n",
       "      <td>0</td>\n",
       "      <td>98038</td>\n",
       "      <td>47.4199</td>\n",
       "      <td>-121.990</td>\n",
       "      <td>2080</td>\n",
       "      <td>108028</td>\n",
       "    </tr>\n",
       "    <tr>\n",
       "      <td>17289</td>\n",
       "      <td>17289</td>\n",
       "      <td>6703100135</td>\n",
       "      <td>20150116T000000</td>\n",
       "      <td>348000.0</td>\n",
       "      <td>3</td>\n",
       "      <td>1.50</td>\n",
       "      <td>1330</td>\n",
       "      <td>6768</td>\n",
       "      <td>1.0</td>\n",
       "      <td>0</td>\n",
       "      <td>0</td>\n",
       "      <td>4</td>\n",
       "      <td>7</td>\n",
       "      <td>1330</td>\n",
       "      <td>0</td>\n",
       "      <td>1952</td>\n",
       "      <td>0</td>\n",
       "      <td>98155</td>\n",
       "      <td>47.7366</td>\n",
       "      <td>-122.319</td>\n",
       "      <td>1320</td>\n",
       "      <td>6910</td>\n",
       "    </tr>\n",
       "  </tbody>\n",
       "</table>\n",
       "<p>17290 rows × 22 columns</p>\n",
       "</div>"
      ],
      "text/plain": [
       "       Unnamed: 0          id             date      price  bedrooms  \\\n",
       "0               0  2591820310  20141006T000000   365000.0         4   \n",
       "1               1  7974200820  20140821T000000   865000.0         5   \n",
       "2               2  7701450110  20140815T000000  1038000.0         4   \n",
       "3               3  9522300010  20150331T000000  1490000.0         3   \n",
       "4               4  9510861140  20140714T000000   711000.0         3   \n",
       "...           ...         ...              ...        ...       ...   \n",
       "17285       17285   627300195  20150303T000000   750000.0         5   \n",
       "17286       17286  8819900270  20140520T000000   440000.0         2   \n",
       "17287       17287  3816300095  20140514T000000   310000.0         3   \n",
       "17288       17288   122069107  20141204T000000   427500.0         3   \n",
       "17289       17289  6703100135  20150116T000000   348000.0         3   \n",
       "\n",
       "       bathrooms  sqft_living  sqft_lot  floors  waterfront  view  condition  \\\n",
       "0           2.25         2070      8893     2.0           0     0          4   \n",
       "1           3.00         2900      6730     1.0           0     0          5   \n",
       "2           2.50         3770     10893     2.0           0     2          3   \n",
       "3           3.50         4560     14608     2.0           0     2          3   \n",
       "4           2.50         2550      5376     2.0           0     0          3   \n",
       "...          ...          ...       ...     ...         ...   ...        ...   \n",
       "17285       2.50         3240      9960     1.0           0     1          3   \n",
       "17286       1.75         1300      4000     2.0           0     0          3   \n",
       "17287       1.00         1050      9876     1.0           0     0          3   \n",
       "17288       1.50         1900     43186     1.5           0     0          4   \n",
       "17289       1.50         1330      6768     1.0           0     0          4   \n",
       "\n",
       "       grade  sqft_above  sqft_basement  yr_built  yr_renovated  zipcode  \\\n",
       "0          8        2070              0      1986             0    98058   \n",
       "1          8        1830           1070      1977             0    98115   \n",
       "2         11        3770              0      1997             0    98006   \n",
       "3         12        4560              0      1990             0    98034   \n",
       "4          9        2550              0      2004             0    98052   \n",
       "...      ...         ...            ...       ...           ...      ...   \n",
       "17285      8        2020           1220      1958             0    98008   \n",
       "17286      7        1300              0      1948             0    98105   \n",
       "17287      7        1050              0      1953             0    98028   \n",
       "17288      7        1300            600      1971             0    98038   \n",
       "17289      7        1330              0      1952             0    98155   \n",
       "\n",
       "           lat     long  sqft_living15  sqft_lot15  \n",
       "0      47.4388 -122.162           2390        7700  \n",
       "1      47.6784 -122.285           2370        6283  \n",
       "2      47.5646 -122.129           3710        9685  \n",
       "3      47.6995 -122.228           4050       14226  \n",
       "4      47.6647 -122.083           2250        4050  \n",
       "...        ...      ...            ...         ...  \n",
       "17285  47.5858 -122.112           2730       10400  \n",
       "17286  47.6687 -122.288           1350        4013  \n",
       "17287  47.7635 -122.262           1760        9403  \n",
       "17288  47.4199 -121.990           2080      108028  \n",
       "17289  47.7366 -122.319           1320        6910  \n",
       "\n",
       "[17290 rows x 22 columns]"
      ]
     },
     "execution_count": 5,
     "metadata": {},
     "output_type": "execute_result"
    }
   ],
   "source": [
    "df"
   ]
  },
  {
   "cell_type": "markdown",
   "metadata": {},
   "source": [
    "## Data Cleaning\n"
   ]
  },
  {
   "cell_type": "code",
   "execution_count": 6,
   "metadata": {},
   "outputs": [
    {
     "data": {
      "text/plain": [
       "str"
      ]
     },
     "execution_count": 6,
     "metadata": {},
     "output_type": "execute_result"
    }
   ],
   "source": [
    "## change the date column to the right format-- \n",
    "df['date'] = df['date'].str.replace('T000000','')\n",
    "df.astype({'date' : 'str'}).dtypes\n",
    "type(df['date'][0])\n",
    "\n"
   ]
  },
  {
   "cell_type": "code",
   "execution_count": 14,
   "metadata": {},
   "outputs": [
    {
     "data": {
      "text/plain": [
       "0"
      ]
     },
     "execution_count": 14,
     "metadata": {},
     "output_type": "execute_result"
    }
   ],
   "source": [
    "df['yr_renovated'].min()"
   ]
  },
  {
   "cell_type": "code",
   "execution_count": 15,
   "metadata": {},
   "outputs": [],
   "source": [
    "## call the date-time to change the columns to date \n",
    "# df['date'] =  pd.to_datetime(df['date'], format='%Y%m%d')\n",
    "\n"
   ]
  },
  {
   "cell_type": "code",
   "execution_count": 16,
   "metadata": {},
   "outputs": [
    {
     "data": {
      "text/plain": [
       "count                   17290\n",
       "unique                    371\n",
       "top       2014-06-25 00:00:00\n",
       "freq                      111\n",
       "first     2014-05-02 00:00:00\n",
       "last      2015-05-27 00:00:00\n",
       "Name: date, dtype: object"
      ]
     },
     "execution_count": 16,
     "metadata": {},
     "output_type": "execute_result"
    }
   ],
   "source": [
    "df['date'].describe()"
   ]
  },
  {
   "cell_type": "code",
   "execution_count": 17,
   "metadata": {},
   "outputs": [
    {
     "name": "stdout",
     "output_type": "stream",
     "text": [
      "<class 'pandas.core.frame.DataFrame'>\n",
      "RangeIndex: 17290 entries, 0 to 17289\n",
      "Data columns (total 22 columns):\n",
      "Unnamed: 0       17290 non-null int64\n",
      "id               17290 non-null int64\n",
      "date             17290 non-null datetime64[ns]\n",
      "price            17290 non-null float64\n",
      "bedrooms         17290 non-null int64\n",
      "bathrooms        17290 non-null float64\n",
      "sqft_living      17290 non-null int64\n",
      "sqft_lot         17290 non-null int64\n",
      "floors           17290 non-null float64\n",
      "waterfront       17290 non-null int64\n",
      "view             17290 non-null int64\n",
      "condition        17290 non-null int64\n",
      "grade            17290 non-null int64\n",
      "sqft_above       17290 non-null int64\n",
      "sqft_basement    17290 non-null int64\n",
      "yr_built         17290 non-null int64\n",
      "yr_renovated     17290 non-null int64\n",
      "zipcode          17290 non-null int64\n",
      "lat              17290 non-null float64\n",
      "long             17290 non-null float64\n",
      "sqft_living15    17290 non-null int64\n",
      "sqft_lot15       17290 non-null int64\n",
      "dtypes: datetime64[ns](1), float64(5), int64(16)\n",
      "memory usage: 2.9 MB\n"
     ]
    }
   ],
   "source": [
    "df.info()"
   ]
  },
  {
   "cell_type": "code",
   "execution_count": 11,
   "metadata": {},
   "outputs": [
    {
     "data": {
      "text/plain": [
       "<matplotlib.axes._subplots.AxesSubplot at 0x1a1bfce940>"
      ]
     },
     "execution_count": 11,
     "metadata": {},
     "output_type": "execute_result"
    },
    {
     "data": {
      "image/png": "[encoded data removed]",
      "text/plain": [
       "<Figure size 432x288 with 1 Axes>"
      ]
     },
     "metadata": {
      "needs_background": "light"
     },
     "output_type": "display_data"
    }
   ],
   "source": [
    "## checking for null values.\n",
    "sns.heatmap(df.isnull(), cbar=False)\n"
   ]
  },
  {
   "cell_type": "code",
   "execution_count": 18,
   "metadata": {},
   "outputs": [],
   "source": [
    "## drop the Unnecessary columns \n",
    "df.drop(columns=['Unnamed: 0', 'id'], inplace=True)"
   ]
  },
  {
   "cell_type": "code",
   "execution_count": 36,
   "metadata": {},
   "outputs": [
    {
     "data": {
      "text/plain": [
       "33"
      ]
     },
     "execution_count": 36,
     "metadata": {},
     "output_type": "execute_result"
    }
   ],
   "source": [
    "df['bedrooms'].max()"
   ]
  },
  {
   "cell_type": "code",
   "execution_count": 41,
   "metadata": {},
   "outputs": [
    {
     "data": {
      "text/plain": [
       "540739.5486408329"
      ]
     },
     "execution_count": 41,
     "metadata": {},
     "output_type": "execute_result"
    }
   ],
   "source": [
    "df['price'].mean()"
   ]
  },
  {
   "cell_type": "code",
   "execution_count": 40,
   "metadata": {},
   "outputs": [
    {
     "data": {
      "text/plain": [
       "{'whiskers': [<matplotlib.lines.Line2D at 0x1a297f09b0>,\n",
       "  <matplotlib.lines.Line2D at 0x1a297f0d30>],\n",
       " 'caps': [<matplotlib.lines.Line2D at 0x1a297f40f0>,\n",
       "  <matplotlib.lines.Line2D at 0x1a297f4470>],\n",
       " 'boxes': [<matplotlib.lines.Line2D at 0x1a297f0668>],\n",
       " 'medians': [<matplotlib.lines.Line2D at 0x1a297f47f0>],\n",
       " 'fliers': [<matplotlib.lines.Line2D at 0x1a297f4eb8>],\n",
       " 'means': [<matplotlib.lines.Line2D at 0x1a297f4b70>]}"
      ]
     },
     "execution_count": 40,
     "metadata": {},
     "output_type": "execute_result"
    },
    {
     "data": {
      "image/png": "[encoded data removed]",
      "text/plain": [
       "<Figure size 432x288 with 1 Axes>"
      ]
     },
     "metadata": {
      "needs_background": "light"
     },
     "output_type": "display_data"
    }
   ],
   "source": [
    "plt.boxplot(df['price'],showmeans=True)"
   ]
  },
  {
   "cell_type": "code",
   "execution_count": 21,
   "metadata": {},
   "outputs": [
    {
     "data": {
      "text/plain": [
       "date             datetime64[ns]\n",
       "price                   float64\n",
       "bedrooms                  int64\n",
       "bathrooms               float64\n",
       "sqft_living               int64\n",
       "sqft_lot                  int64\n",
       "floors                  float64\n",
       "waterfront                int64\n",
       "view                      int64\n",
       "condition                 int64\n",
       "grade                     int64\n",
       "sqft_above                int64\n",
       "sqft_basement             int64\n",
       "yr_built                  int64\n",
       "yr_renovated              int64\n",
       "zipcode                   int64\n",
       "lat                     float64\n",
       "long                    float64\n",
       "sqft_living15             int64\n",
       "sqft_lot15                int64\n",
       "dtype: object"
      ]
     },
     "execution_count": 21,
     "metadata": {},
     "output_type": "execute_result"
    }
   ],
   "source": [
    "df.dtypes\n"
   ]
  },
  {
   "cell_type": "code",
   "execution_count": 23,
   "metadata": {},
   "outputs": [
    {
     "data": {
      "text/plain": [
       "0        0\n",
       "1        0\n",
       "2        0\n",
       "3        0\n",
       "4        0\n",
       "        ..\n",
       "17285    0\n",
       "17286    0\n",
       "17287    0\n",
       "17288    0\n",
       "17289    0\n",
       "Name: waterfront, Length: 17290, dtype: int64"
      ]
     },
     "execution_count": 23,
     "metadata": {},
     "output_type": "execute_result"
    }
   ],
   "source": [
    "df.waterfront"
   ]
  },
  {
   "cell_type": "code",
   "execution_count": 25,
   "metadata": {},
   "outputs": [
    {
     "data": {
      "text/plain": [
       "date             datetime64[ns]\n",
       "price                   float64\n",
       "bedrooms                  int64\n",
       "bathrooms               float64\n",
       "sqft_living               int64\n",
       "sqft_lot                  int64\n",
       "floors                  float64\n",
       "waterfront             category\n",
       "view                   category\n",
       "condition              category\n",
       "grade                  category\n",
       "sqft_above                int64\n",
       "sqft_basement             int64\n",
       "yr_built                  int64\n",
       "yr_renovated              int64\n",
       "zipcode                   int64\n",
       "lat                     float64\n",
       "long                    float64\n",
       "sqft_living15             int64\n",
       "sqft_lot15                int64\n",
       "dtype: object"
      ]
     },
     "execution_count": 25,
     "metadata": {},
     "output_type": "execute_result"
    }
   ],
   "source": [
    "# Get the categorical data \n",
    "df.astype({'waterfront': 'category', 'view' : 'category', 'condition' : 'category', 'grade' : 'category'}).dtypes"
   ]
  },
  {
   "cell_type": "code",
   "execution_count": 26,
   "metadata": {},
   "outputs": [
    {
     "data": {
      "text/plain": [
       "0        0\n",
       "1        0\n",
       "2        0\n",
       "3        0\n",
       "4        0\n",
       "        ..\n",
       "17285    0\n",
       "17286    0\n",
       "17287    0\n",
       "17288    0\n",
       "17289    0\n",
       "Name: waterfront, Length: 17290, dtype: int64"
      ]
     },
     "execution_count": 26,
     "metadata": {},
     "output_type": "execute_result"
    }
   ],
   "source": [
    "df.waterfront"
   ]
  },
  {
   "cell_type": "code",
   "execution_count": 27,
   "metadata": {},
   "outputs": [
    {
     "name": "stdout",
     "output_type": "stream",
     "text": [
      "Number of numerical variables:  20\n"
     ]
    }
   ],
   "source": [
    "#list of numerical variables\n",
    "num_vars = [var for var in df.columns if df[var].dtypes != 'O']\n",
    "print('Number of numerical variables: ', len(num_vars))"
   ]
  },
  {
   "cell_type": "code",
   "execution_count": 28,
   "metadata": {},
   "outputs": [
    {
     "data": {
      "text/html": [
       "<div>\n",
       "<style scoped>\n",
       "    .dataframe tbody tr th:only-of-type {\n",
       "        vertical-align: middle;\n",
       "    }\n",
       "\n",
       "    .dataframe tbody tr th {\n",
       "        vertical-align: top;\n",
       "    }\n",
       "\n",
       "    .dataframe thead th {\n",
       "        text-align: right;\n",
       "    }\n",
       "</style>\n",
       "<table border=\"1\" class=\"dataframe\">\n",
       "  <thead>\n",
       "    <tr style=\"text-align: right;\">\n",
       "      <th></th>\n",
       "      <th>date</th>\n",
       "      <th>price</th>\n",
       "      <th>bedrooms</th>\n",
       "      <th>bathrooms</th>\n",
       "      <th>sqft_living</th>\n",
       "      <th>sqft_lot</th>\n",
       "      <th>floors</th>\n",
       "      <th>waterfront</th>\n",
       "      <th>view</th>\n",
       "      <th>condition</th>\n",
       "      <th>grade</th>\n",
       "      <th>sqft_above</th>\n",
       "      <th>sqft_basement</th>\n",
       "      <th>yr_built</th>\n",
       "      <th>yr_renovated</th>\n",
       "      <th>zipcode</th>\n",
       "      <th>lat</th>\n",
       "      <th>long</th>\n",
       "      <th>sqft_living15</th>\n",
       "      <th>sqft_lot15</th>\n",
       "    </tr>\n",
       "  </thead>\n",
       "  <tbody>\n",
       "    <tr>\n",
       "      <td>0</td>\n",
       "      <td>2014-10-06</td>\n",
       "      <td>365000.0</td>\n",
       "      <td>4</td>\n",
       "      <td>2.25</td>\n",
       "      <td>2070</td>\n",
       "      <td>8893</td>\n",
       "      <td>2.0</td>\n",
       "      <td>0</td>\n",
       "      <td>0</td>\n",
       "      <td>4</td>\n",
       "      <td>8</td>\n",
       "      <td>2070</td>\n",
       "      <td>0</td>\n",
       "      <td>1986</td>\n",
       "      <td>0</td>\n",
       "      <td>98058</td>\n",
       "      <td>47.4388</td>\n",
       "      <td>-122.162</td>\n",
       "      <td>2390</td>\n",
       "      <td>7700</td>\n",
       "    </tr>\n",
       "    <tr>\n",
       "      <td>1</td>\n",
       "      <td>2014-08-21</td>\n",
       "      <td>865000.0</td>\n",
       "      <td>5</td>\n",
       "      <td>3.00</td>\n",
       "      <td>2900</td>\n",
       "      <td>6730</td>\n",
       "      <td>1.0</td>\n",
       "      <td>0</td>\n",
       "      <td>0</td>\n",
       "      <td>5</td>\n",
       "      <td>8</td>\n",
       "      <td>1830</td>\n",
       "      <td>1070</td>\n",
       "      <td>1977</td>\n",
       "      <td>0</td>\n",
       "      <td>98115</td>\n",
       "      <td>47.6784</td>\n",
       "      <td>-122.285</td>\n",
       "      <td>2370</td>\n",
       "      <td>6283</td>\n",
       "    </tr>\n",
       "    <tr>\n",
       "      <td>2</td>\n",
       "      <td>2014-08-15</td>\n",
       "      <td>1038000.0</td>\n",
       "      <td>4</td>\n",
       "      <td>2.50</td>\n",
       "      <td>3770</td>\n",
       "      <td>10893</td>\n",
       "      <td>2.0</td>\n",
       "      <td>0</td>\n",
       "      <td>2</td>\n",
       "      <td>3</td>\n",
       "      <td>11</td>\n",
       "      <td>3770</td>\n",
       "      <td>0</td>\n",
       "      <td>1997</td>\n",
       "      <td>0</td>\n",
       "      <td>98006</td>\n",
       "      <td>47.5646</td>\n",
       "      <td>-122.129</td>\n",
       "      <td>3710</td>\n",
       "      <td>9685</td>\n",
       "    </tr>\n",
       "    <tr>\n",
       "      <td>3</td>\n",
       "      <td>2015-03-31</td>\n",
       "      <td>1490000.0</td>\n",
       "      <td>3</td>\n",
       "      <td>3.50</td>\n",
       "      <td>4560</td>\n",
       "      <td>14608</td>\n",
       "      <td>2.0</td>\n",
       "      <td>0</td>\n",
       "      <td>2</td>\n",
       "      <td>3</td>\n",
       "      <td>12</td>\n",
       "      <td>4560</td>\n",
       "      <td>0</td>\n",
       "      <td>1990</td>\n",
       "      <td>0</td>\n",
       "      <td>98034</td>\n",
       "      <td>47.6995</td>\n",
       "      <td>-122.228</td>\n",
       "      <td>4050</td>\n",
       "      <td>14226</td>\n",
       "    </tr>\n",
       "    <tr>\n",
       "      <td>4</td>\n",
       "      <td>2014-07-14</td>\n",
       "      <td>711000.0</td>\n",
       "      <td>3</td>\n",
       "      <td>2.50</td>\n",
       "      <td>2550</td>\n",
       "      <td>5376</td>\n",
       "      <td>2.0</td>\n",
       "      <td>0</td>\n",
       "      <td>0</td>\n",
       "      <td>3</td>\n",
       "      <td>9</td>\n",
       "      <td>2550</td>\n",
       "      <td>0</td>\n",
       "      <td>2004</td>\n",
       "      <td>0</td>\n",
       "      <td>98052</td>\n",
       "      <td>47.6647</td>\n",
       "      <td>-122.083</td>\n",
       "      <td>2250</td>\n",
       "      <td>4050</td>\n",
       "    </tr>\n",
       "  </tbody>\n",
       "</table>\n",
       "</div>"
      ],
      "text/plain": [
       "        date      price  bedrooms  bathrooms  sqft_living  sqft_lot  floors  \\\n",
       "0 2014-10-06   365000.0         4       2.25         2070      8893     2.0   \n",
       "1 2014-08-21   865000.0         5       3.00         2900      6730     1.0   \n",
       "2 2014-08-15  1038000.0         4       2.50         3770     10893     2.0   \n",
       "3 2015-03-31  1490000.0         3       3.50         4560     14608     2.0   \n",
       "4 2014-07-14   711000.0         3       2.50         2550      5376     2.0   \n",
       "\n",
       "   waterfront  view  condition  grade  sqft_above  sqft_basement  yr_built  \\\n",
       "0           0     0          4      8        2070              0      1986   \n",
       "1           0     0          5      8        1830           1070      1977   \n",
       "2           0     2          3     11        3770              0      1997   \n",
       "3           0     2          3     12        4560              0      1990   \n",
       "4           0     0          3      9        2550              0      2004   \n",
       "\n",
       "   yr_renovated  zipcode      lat     long  sqft_living15  sqft_lot15  \n",
       "0             0    98058  47.4388 -122.162           2390        7700  \n",
       "1             0    98115  47.6784 -122.285           2370        6283  \n",
       "2             0    98006  47.5646 -122.129           3710        9685  \n",
       "3             0    98034  47.6995 -122.228           4050       14226  \n",
       "4             0    98052  47.6647 -122.083           2250        4050  "
      ]
     },
     "execution_count": 28,
     "metadata": {},
     "output_type": "execute_result"
    }
   ],
   "source": [
    "# visualise the numerical variables\n",
    "df[num_vars].head()\n"
   ]
  },
  {
   "cell_type": "code",
   "execution_count": 29,
   "metadata": {},
   "outputs": [
    {
     "data": {
      "text/plain": [
       "7     7183\n",
       "8     4848\n",
       "9     2099\n",
       "6     1648\n",
       "10     893\n",
       "11     319\n",
       "5      192\n",
       "12      72\n",
       "4       22\n",
       "13      11\n",
       "3        2\n",
       "1        1\n",
       "Name: grade, dtype: int64"
      ]
     },
     "execution_count": 29,
     "metadata": {},
     "output_type": "execute_result"
    }
   ],
   "source": [
    "df['grade'].value_counts()"
   ]
  },
  {
   "cell_type": "code",
   "execution_count": 30,
   "metadata": {},
   "outputs": [],
   "source": [
    "cat_vars = ['waterfront', 'view', 'condition', 'grade']"
   ]
  },
  {
   "cell_type": "code",
   "execution_count": 31,
   "metadata": {},
   "outputs": [
    {
     "data": {
      "text/plain": [
       "['waterfront', 'view', 'condition', 'grade']"
      ]
     },
     "execution_count": 31,
     "metadata": {},
     "output_type": "execute_result"
    }
   ],
   "source": [
    "cat_vars"
   ]
  },
  {
   "cell_type": "code",
   "execution_count": 61,
   "metadata": {},
   "outputs": [
    {
     "data": {
      "text/plain": [
       "Int64Index([], dtype='int64')"
      ]
     },
     "execution_count": 61,
     "metadata": {},
     "output_type": "execute_result"
    }
   ],
   "source": [
    "# Find indices of outliers in price\n",
    "remove_price = df.index[(df['price'] > 6000000)]\n",
    "remove_price\n"
   ]
  },
  {
   "cell_type": "code",
   "execution_count": 60,
   "metadata": {},
   "outputs": [
    {
     "data": {
      "text/html": [
       "<div>\n",
       "<style scoped>\n",
       "    .dataframe tbody tr th:only-of-type {\n",
       "        vertical-align: middle;\n",
       "    }\n",
       "\n",
       "    .dataframe tbody tr th {\n",
       "        vertical-align: top;\n",
       "    }\n",
       "\n",
       "    .dataframe thead th {\n",
       "        text-align: right;\n",
       "    }\n",
       "</style>\n",
       "<table border=\"1\" class=\"dataframe\">\n",
       "  <thead>\n",
       "    <tr style=\"text-align: right;\">\n",
       "      <th></th>\n",
       "      <th>date</th>\n",
       "      <th>price</th>\n",
       "      <th>bedrooms</th>\n",
       "      <th>bathrooms</th>\n",
       "      <th>sqft_living</th>\n",
       "      <th>sqft_lot</th>\n",
       "      <th>floors</th>\n",
       "      <th>waterfront</th>\n",
       "      <th>view</th>\n",
       "      <th>condition</th>\n",
       "      <th>grade</th>\n",
       "      <th>sqft_above</th>\n",
       "      <th>sqft_basement</th>\n",
       "      <th>yr_built</th>\n",
       "      <th>yr_renovated</th>\n",
       "      <th>zipcode</th>\n",
       "      <th>lat</th>\n",
       "      <th>long</th>\n",
       "      <th>sqft_living15</th>\n",
       "      <th>sqft_lot15</th>\n",
       "      <th>year_sold</th>\n",
       "      <th>age</th>\n",
       "    </tr>\n",
       "  </thead>\n",
       "  <tbody>\n",
       "  </tbody>\n",
       "</table>\n",
       "</div>"
      ],
      "text/plain": [
       "Empty DataFrame\n",
       "Columns: [date, price, bedrooms, bathrooms, sqft_living, sqft_lot, floors, waterfront, view, condition, grade, sqft_above, sqft_basement, yr_built, yr_renovated, zipcode, lat, long, sqft_living15, sqft_lot15, year_sold, age]\n",
       "Index: []"
      ]
     },
     "execution_count": 60,
     "metadata": {},
     "output_type": "execute_result"
    }
   ],
   "source": [
    "\n",
    "df.drop(remove_price, inplace = True)\n",
    "df.iloc[remove_price]"
   ]
  },
  {
   "cell_type": "code",
   "execution_count": 65,
   "metadata": {},
   "outputs": [
    {
     "data": {
      "text/plain": [
       "Int64Index([], dtype='int64')"
      ]
     },
     "execution_count": 65,
     "metadata": {},
     "output_type": "execute_result"
    }
   ],
   "source": [
    "remove_bedroom = df.index[(df['bedrooms'] > 15)]\n",
    "remove_bedroom\n",
    "\n",
    "\n",
    "\n"
   ]
  },
  {
   "cell_type": "code",
   "execution_count": 66,
   "metadata": {},
   "outputs": [
    {
     "data": {
      "text/html": [
       "<div>\n",
       "<style scoped>\n",
       "    .dataframe tbody tr th:only-of-type {\n",
       "        vertical-align: middle;\n",
       "    }\n",
       "\n",
       "    .dataframe tbody tr th {\n",
       "        vertical-align: top;\n",
       "    }\n",
       "\n",
       "    .dataframe thead th {\n",
       "        text-align: right;\n",
       "    }\n",
       "</style>\n",
       "<table border=\"1\" class=\"dataframe\">\n",
       "  <thead>\n",
       "    <tr style=\"text-align: right;\">\n",
       "      <th></th>\n",
       "      <th>date</th>\n",
       "      <th>price</th>\n",
       "      <th>bedrooms</th>\n",
       "      <th>bathrooms</th>\n",
       "      <th>sqft_living</th>\n",
       "      <th>sqft_lot</th>\n",
       "      <th>floors</th>\n",
       "      <th>waterfront</th>\n",
       "      <th>view</th>\n",
       "      <th>condition</th>\n",
       "      <th>grade</th>\n",
       "      <th>sqft_above</th>\n",
       "      <th>sqft_basement</th>\n",
       "      <th>yr_built</th>\n",
       "      <th>yr_renovated</th>\n",
       "      <th>zipcode</th>\n",
       "      <th>lat</th>\n",
       "      <th>long</th>\n",
       "      <th>sqft_living15</th>\n",
       "      <th>sqft_lot15</th>\n",
       "      <th>year_sold</th>\n",
       "      <th>age</th>\n",
       "    </tr>\n",
       "  </thead>\n",
       "  <tbody>\n",
       "  </tbody>\n",
       "</table>\n",
       "</div>"
      ],
      "text/plain": [
       "Empty DataFrame\n",
       "Columns: [date, price, bedrooms, bathrooms, sqft_living, sqft_lot, floors, waterfront, view, condition, grade, sqft_above, sqft_basement, yr_built, yr_renovated, zipcode, lat, long, sqft_living15, sqft_lot15, year_sold, age]\n",
       "Index: []"
      ]
     },
     "execution_count": 66,
     "metadata": {},
     "output_type": "execute_result"
    }
   ],
   "source": [
    "df.drop(remove_bedroom, inplace = True)\n",
    "df.iloc[remove_bedroom]"
   ]
  },
  {
   "cell_type": "markdown",
   "metadata": {},
   "source": [
    "## EDA"
   ]
  },
  {
   "cell_type": "code",
   "execution_count": 32,
   "metadata": {},
   "outputs": [
    {
     "data": {
      "image/png": "[encoded data removed]",
      "text/plain": [
       "<Figure size 432x288 with 1 Axes>"
      ]
     },
     "metadata": {
      "needs_background": "light"
     },
     "output_type": "display_data"
    },
    {
     "data": {
      "image/png": "[encoded data removed]",
      "text/plain": [
       "<Figure size 432x288 with 1 Axes>"
      ]
     },
     "metadata": {
      "needs_background": "light"
     },
     "output_type": "display_data"
    },
    {
     "data": {
      "image/png": "[encoded data removed]",
      "text/plain": [
       "<Figure size 432x288 with 1 Axes>"
      ]
     },
     "metadata": {
      "needs_background": "light"
     },
     "output_type": "display_data"
    },
    {
     "data": {
      "image/png": "[encoded data removed]",
      "text/plain": [
       "<Figure size 432x288 with 1 Axes>"
      ]
     },
     "metadata": {
      "needs_background": "light"
     },
     "output_type": "display_data"
    }
   ],
   "source": [
    "# plot the categorical data to look for insights on data \n",
    "for cat in cat_vars:\n",
    "    plt.bar(x=df[cat], height=df['price'])\n",
    "    plt.show()"
   ]
  },
  {
   "cell_type": "code",
   "execution_count": 34,
   "metadata": {},
   "outputs": [
    {
     "data": {
      "text/plain": [
       "['date', 'yr_built', 'yr_renovated']"
      ]
     },
     "execution_count": 34,
     "metadata": {},
     "output_type": "execute_result"
    }
   ],
   "source": [
    "## \n",
    "year_vars = [var for var in num_vars if 'yr' in var or 'Year' in var or 'date' in var]\n",
    "year_vars"
   ]
  },
  {
   "cell_type": "code",
   "execution_count": null,
   "metadata": {},
   "outputs": [],
   "source": [
    "for var in year_vars:\n",
    "    print(var, df[var].unique())\n",
    "    print()\n"
   ]
  },
  {
   "cell_type": "code",
   "execution_count": 44,
   "metadata": {},
   "outputs": [
    {
     "data": {
      "text/plain": [
       "Text(0.5, 1.0, 'Change in House price with the years')"
      ]
     },
     "execution_count": 44,
     "metadata": {},
     "output_type": "execute_result"
    },
    {
     "data": {
      "image/png": "[encoded data removed]",
      "text/plain": [
       "<Figure size 432x288 with 1 Axes>"
      ]
     },
     "metadata": {
      "needs_background": "light"
     },
     "output_type": "display_data"
    }
   ],
   "source": [
    "## plot of the mean house price in comparison to the yr_built \n",
    "df.groupby('yr_built')['price'].mean().plot()\n",
    "plt.ylabel('Mean House Price')\n",
    "plt.title('Change in House price with the years')"
   ]
  },
  {
   "cell_type": "code",
   "execution_count": null,
   "metadata": {},
   "outputs": [],
   "source": []
  },
  {
   "cell_type": "code",
   "execution_count": 79,
   "metadata": {},
   "outputs": [
    {
     "data": {
      "text/plain": [
       "<seaborn.axisgrid.JointGrid at 0x1a3fcea7f0>"
      ]
     },
     "execution_count": 79,
     "metadata": {},
     "output_type": "execute_result"
    },
    {
     "data": {
      "image/png": "[encoded data removed]",
      "text/plain": [
       "<Figure size 432x432 with 3 Axes>"
      ]
     },
     "metadata": {
      "needs_background": "light"
     },
     "output_type": "display_data"
    }
   ],
   "source": [
    "## \n",
    "sns.jointplot(x='age', y='price', data=df, kind=\"reg\")"
   ]
  },
  {
   "cell_type": "markdown",
   "metadata": {},
   "source": [
    "## Feature Enginerring "
   ]
  },
  {
   "cell_type": "markdown",
   "metadata": {},
   "source": [
    "Age feature"
   ]
  },
  {
   "cell_type": "code",
   "execution_count": 51,
   "metadata": {},
   "outputs": [],
   "source": [
    "df['date'] = df['date'].astype('str')"
   ]
  },
  {
   "cell_type": "code",
   "execution_count": 52,
   "metadata": {},
   "outputs": [],
   "source": [
    "df['year_sold'] = df['date'].str[0:4]"
   ]
  },
  {
   "cell_type": "code",
   "execution_count": 53,
   "metadata": {},
   "outputs": [],
   "source": [
    "df['year_sold'] = df['year_sold'].astype('int')"
   ]
  },
  {
   "cell_type": "code",
   "execution_count": 55,
   "metadata": {},
   "outputs": [],
   "source": [
    "df['age'] = df['year_sold'] - df['yr_built']"
   ]
  },
  {
   "cell_type": "code",
   "execution_count": null,
   "metadata": {},
   "outputs": [],
   "source": [
    "df"
   ]
  },
  {
   "cell_type": "markdown",
   "metadata": {},
   "source": [
    "Season Feature"
   ]
  },
  {
   "cell_type": "code",
   "execution_count": 67,
   "metadata": {},
   "outputs": [],
   "source": [
    "df['month_sold'] = df['date'].str[4:6]"
   ]
  },
  {
   "cell_type": "code",
   "execution_count": 68,
   "metadata": {},
   "outputs": [],
   "source": [
    "df['month_sold'] = df['month_sold'].astype('int')"
   ]
  },
  {
   "cell_type": "code",
   "execution_count": 69,
   "metadata": {},
   "outputs": [],
   "source": [
    "df['spring'] = np.where(df['month_sold'].between(3,5), 1, 0)\n",
    "df['summer'] = np.where(df['month_sold'].between(6,8), 1, 0)\n",
    "df['fall'] = np.where(df['month_sold'].between(9,11), 1, 0)"
   ]
  },
  {
   "cell_type": "code",
   "execution_count": null,
   "metadata": {},
   "outputs": [],
   "source": [
    "df"
   ]
  },
  {
   "cell_type": "markdown",
   "metadata": {},
   "source": [
    "Dummies"
   ]
  },
  {
   "cell_type": "code",
   "execution_count": 76,
   "metadata": {},
   "outputs": [],
   "source": [
    "## creating dummy variable for the categorical data\n",
    "categorical = ['view', 'condition']\n",
    "dummies1 = pd.get_dummies(df, prefix = categorical, columns = categorical, drop_first = True)\n"
   ]
  },
  {
   "cell_type": "code",
   "execution_count": null,
   "metadata": {},
   "outputs": [],
   "source": [
    "len(dummies1.columns), list(dummies1.columns)"
   ]
  },
  {
   "cell_type": "code",
   "execution_count": 117,
   "metadata": {},
   "outputs": [],
   "source": [
    "dummies1.drop('date' , inplace = True ,axis =1)\n"
   ]
  },
  {
   "cell_type": "code",
   "execution_count": 82,
   "metadata": {},
   "outputs": [],
   "source": [
    "my_dummy = list(dummies1.columns)"
   ]
  },
  {
   "cell_type": "code",
   "execution_count": 86,
   "metadata": {},
   "outputs": [],
   "source": [
    "my_dummy.remove('price')"
   ]
  },
  {
   "cell_type": "code",
   "execution_count": 87,
   "metadata": {},
   "outputs": [],
   "source": [
    "my_dummy.remove('date')"
   ]
  },
  {
   "cell_type": "code",
   "execution_count": null,
   "metadata": {},
   "outputs": [],
   "source": [
    "my_dummy"
   ]
  },
  {
   "cell_type": "code",
   "execution_count": 106,
   "metadata": {},
   "outputs": [
    {
     "data": {
      "text/plain": [
       "'bedrooms+bathrooms+sqft_living+sqft_lot+floors+waterfront+grade+sqft_above+sqft_basement+yr_built+yr_renovated+zipcode+lat+long+sqft_living15+sqft_lot15+year_sold+age+month_sold+spring+summer+fall+view_1+view_2+view_3+view_4+condition_2+condition_3+condition_4+condition_5'"
      ]
     },
     "execution_count": 106,
     "metadata": {},
     "output_type": "execute_result"
    }
   ],
   "source": [
    "my_vars = '+'.join(my_dummy)\n",
    "my_vars"
   ]
  },
  {
   "cell_type": "code",
   "execution_count": 103,
   "metadata": {},
   "outputs": [],
   "source": [
    "depen_var = 'price'\n"
   ]
  },
  {
   "cell_type": "code",
   "execution_count": 104,
   "metadata": {},
   "outputs": [],
   "source": [
    "from statsmodels.formula.api import ols"
   ]
  },
  {
   "cell_type": "code",
   "execution_count": 107,
   "metadata": {},
   "outputs": [],
   "source": [
    "lr_model = ols(formula= depen_var+'~'+my_vars,data=dummies1).fit()"
   ]
  },
  {
   "cell_type": "code",
   "execution_count": null,
   "metadata": {},
   "outputs": [],
   "source": [
    "lr1_model = ols(formula= depen_var+'~'+my_vars,data=dummies1).fit()"
   ]
  },
  {
   "cell_type": "code",
   "execution_count": 108,
   "metadata": {},
   "outputs": [
    {
     "data": {
      "text/html": [
       "<table class=\"simpletable\">\n",
       "<caption>OLS Regression Results</caption>\n",
       "<tr>\n",
       "  <th>Dep. Variable:</th>          <td>price</td>      <th>  R-squared:         </th>  <td>   0.707</td>  \n",
       "</tr>\n",
       "<tr>\n",
       "  <th>Model:</th>                   <td>OLS</td>       <th>  Adj. R-squared:    </th>  <td>   0.707</td>  \n",
       "</tr>\n",
       "<tr>\n",
       "  <th>Method:</th>             <td>Least Squares</td>  <th>  F-statistic:       </th>  <td>   1666.</td>  \n",
       "</tr>\n",
       "<tr>\n",
       "  <th>Date:</th>             <td>Thu, 20 Feb 2020</td> <th>  Prob (F-statistic):</th>   <td>  0.00</td>   \n",
       "</tr>\n",
       "<tr>\n",
       "  <th>Time:</th>                 <td>14:31:53</td>     <th>  Log-Likelihood:    </th> <td>-2.3521e+05</td>\n",
       "</tr>\n",
       "<tr>\n",
       "  <th>No. Observations:</th>      <td> 17286</td>      <th>  AIC:               </th>  <td>4.705e+05</td> \n",
       "</tr>\n",
       "<tr>\n",
       "  <th>Df Residuals:</th>          <td> 17260</td>      <th>  BIC:               </th>  <td>4.707e+05</td> \n",
       "</tr>\n",
       "<tr>\n",
       "  <th>Df Model:</th>              <td>    25</td>      <th>                     </th>      <td> </td>     \n",
       "</tr>\n",
       "<tr>\n",
       "  <th>Covariance Type:</th>      <td>nonrobust</td>    <th>                     </th>      <td> </td>     \n",
       "</tr>\n",
       "</table>\n",
       "<table class=\"simpletable\">\n",
       "<tr>\n",
       "        <td></td>           <th>coef</th>     <th>std err</th>      <th>t</th>      <th>P>|t|</th>  <th>[0.025</th>    <th>0.975]</th>  \n",
       "</tr>\n",
       "<tr>\n",
       "  <th>Intercept</th>     <td>-5.623e+07</td> <td> 7.66e+06</td> <td>   -7.340</td> <td> 0.000</td> <td>-7.13e+07</td> <td>-4.12e+07</td>\n",
       "</tr>\n",
       "<tr>\n",
       "  <th>bedrooms</th>      <td>-3.547e+04</td> <td> 2136.054</td> <td>  -16.605</td> <td> 0.000</td> <td>-3.97e+04</td> <td>-3.13e+04</td>\n",
       "</tr>\n",
       "<tr>\n",
       "  <th>bathrooms</th>     <td> 4.055e+04</td> <td> 3564.299</td> <td>   11.377</td> <td> 0.000</td> <td> 3.36e+04</td> <td> 4.75e+04</td>\n",
       "</tr>\n",
       "<tr>\n",
       "  <th>sqft_living</th>   <td>  104.0918</td> <td>    2.501</td> <td>   41.617</td> <td> 0.000</td> <td>   99.189</td> <td>  108.994</td>\n",
       "</tr>\n",
       "<tr>\n",
       "  <th>sqft_lot</th>      <td>    0.1166</td> <td>    0.050</td> <td>    2.327</td> <td> 0.020</td> <td>    0.018</td> <td>    0.215</td>\n",
       "</tr>\n",
       "<tr>\n",
       "  <th>floors</th>        <td> 1.019e+04</td> <td> 3934.916</td> <td>    2.590</td> <td> 0.010</td> <td> 2480.175</td> <td> 1.79e+04</td>\n",
       "</tr>\n",
       "<tr>\n",
       "  <th>waterfront</th>    <td> 4.937e+05</td> <td>  2.1e+04</td> <td>   23.465</td> <td> 0.000</td> <td> 4.52e+05</td> <td> 5.35e+05</td>\n",
       "</tr>\n",
       "<tr>\n",
       "  <th>grade</th>         <td> 9.917e+04</td> <td> 2365.763</td> <td>   41.918</td> <td> 0.000</td> <td> 9.45e+04</td> <td> 1.04e+05</td>\n",
       "</tr>\n",
       "<tr>\n",
       "  <th>sqft_above</th>    <td>   64.9290</td> <td>    2.487</td> <td>   26.112</td> <td> 0.000</td> <td>   60.055</td> <td>   69.803</td>\n",
       "</tr>\n",
       "<tr>\n",
       "  <th>sqft_basement</th> <td>   39.1629</td> <td>    2.890</td> <td>   13.550</td> <td> 0.000</td> <td>   33.498</td> <td>   44.828</td>\n",
       "</tr>\n",
       "<tr>\n",
       "  <th>yr_built</th>      <td> 8344.0609</td> <td> 1151.438</td> <td>    7.247</td> <td> 0.000</td> <td> 6087.125</td> <td> 1.06e+04</td>\n",
       "</tr>\n",
       "<tr>\n",
       "  <th>yr_renovated</th>  <td>   16.3211</td> <td>    4.016</td> <td>    4.064</td> <td> 0.000</td> <td>    8.449</td> <td>   24.193</td>\n",
       "</tr>\n",
       "<tr>\n",
       "  <th>zipcode</th>       <td> -554.5264</td> <td>   36.130</td> <td>  -15.348</td> <td> 0.000</td> <td> -625.346</td> <td> -483.707</td>\n",
       "</tr>\n",
       "<tr>\n",
       "  <th>lat</th>           <td> 5.979e+05</td> <td> 1.17e+04</td> <td>   50.933</td> <td> 0.000</td> <td> 5.75e+05</td> <td> 6.21e+05</td>\n",
       "</tr>\n",
       "<tr>\n",
       "  <th>long</th>          <td>-2.112e+05</td> <td> 1.43e+04</td> <td>  -14.780</td> <td> 0.000</td> <td>-2.39e+05</td> <td>-1.83e+05</td>\n",
       "</tr>\n",
       "<tr>\n",
       "  <th>sqft_living15</th> <td>   30.3611</td> <td>    3.781</td> <td>    8.030</td> <td> 0.000</td> <td>   22.950</td> <td>   37.772</td>\n",
       "</tr>\n",
       "<tr>\n",
       "  <th>sqft_lot15</th>    <td>   -0.2829</td> <td>    0.078</td> <td>   -3.605</td> <td> 0.000</td> <td>   -0.437</td> <td>   -0.129</td>\n",
       "</tr>\n",
       "<tr>\n",
       "  <th>year_sold</th>     <td> 1.928e+04</td> <td> 2300.795</td> <td>    8.380</td> <td> 0.000</td> <td> 1.48e+04</td> <td> 2.38e+04</td>\n",
       "</tr>\n",
       "<tr>\n",
       "  <th>age</th>           <td> 1.094e+04</td> <td> 1150.747</td> <td>    9.503</td> <td> 0.000</td> <td> 8679.876</td> <td> 1.32e+04</td>\n",
       "</tr>\n",
       "<tr>\n",
       "  <th>month_sold</th>    <td> -101.8405</td> <td> 3882.566</td> <td>   -0.026</td> <td> 0.979</td> <td>-7712.064</td> <td> 7508.383</td>\n",
       "</tr>\n",
       "<tr>\n",
       "  <th>spring</th>        <td>-8.769e-11</td> <td> 2.72e-11</td> <td>   -3.229</td> <td> 0.001</td> <td>-1.41e-10</td> <td>-3.45e-11</td>\n",
       "</tr>\n",
       "<tr>\n",
       "  <th>summer</th>        <td> 1.152e-11</td> <td> 2.74e-11</td> <td>    0.421</td> <td> 0.674</td> <td>-4.21e-11</td> <td> 6.52e-11</td>\n",
       "</tr>\n",
       "<tr>\n",
       "  <th>fall</th>          <td>-4.185e-11</td> <td> 9.18e-12</td> <td>   -4.559</td> <td> 0.000</td> <td>-5.98e-11</td> <td>-2.39e-11</td>\n",
       "</tr>\n",
       "<tr>\n",
       "  <th>view_1</th>        <td> 1.137e+05</td> <td> 1.24e+04</td> <td>    9.180</td> <td> 0.000</td> <td> 8.94e+04</td> <td> 1.38e+05</td>\n",
       "</tr>\n",
       "<tr>\n",
       "  <th>view_2</th>        <td> 6.857e+04</td> <td> 7477.889</td> <td>    9.169</td> <td> 0.000</td> <td> 5.39e+04</td> <td> 8.32e+04</td>\n",
       "</tr>\n",
       "<tr>\n",
       "  <th>view_3</th>        <td> 1.271e+05</td> <td> 1.03e+04</td> <td>   12.345</td> <td> 0.000</td> <td> 1.07e+05</td> <td> 1.47e+05</td>\n",
       "</tr>\n",
       "<tr>\n",
       "  <th>view_4</th>        <td> 3.121e+05</td> <td> 1.54e+04</td> <td>   20.229</td> <td> 0.000</td> <td> 2.82e+05</td> <td> 3.42e+05</td>\n",
       "</tr>\n",
       "<tr>\n",
       "  <th>condition_2</th>   <td> 1736.1530</td> <td> 4.35e+04</td> <td>    0.040</td> <td> 0.968</td> <td>-8.36e+04</td> <td> 8.71e+04</td>\n",
       "</tr>\n",
       "<tr>\n",
       "  <th>condition_3</th>   <td>-2.207e+04</td> <td> 4.04e+04</td> <td>   -0.546</td> <td> 0.585</td> <td>-1.01e+05</td> <td> 5.71e+04</td>\n",
       "</tr>\n",
       "<tr>\n",
       "  <th>condition_4</th>   <td> 2022.0916</td> <td> 4.04e+04</td> <td>    0.050</td> <td> 0.960</td> <td>-7.72e+04</td> <td> 8.12e+04</td>\n",
       "</tr>\n",
       "<tr>\n",
       "  <th>condition_5</th>   <td> 4.722e+04</td> <td> 4.06e+04</td> <td>    1.162</td> <td> 0.245</td> <td>-3.25e+04</td> <td> 1.27e+05</td>\n",
       "</tr>\n",
       "</table>\n",
       "<table class=\"simpletable\">\n",
       "<tr>\n",
       "  <th>Omnibus:</th>       <td>12313.355</td> <th>  Durbin-Watson:     </th>  <td>   2.002</td> \n",
       "</tr>\n",
       "<tr>\n",
       "  <th>Prob(Omnibus):</th>  <td> 0.000</td>   <th>  Jarque-Bera (JB):  </th> <td>565661.172</td>\n",
       "</tr>\n",
       "<tr>\n",
       "  <th>Skew:</th>           <td> 2.909</td>   <th>  Prob(JB):          </th>  <td>    0.00</td> \n",
       "</tr>\n",
       "<tr>\n",
       "  <th>Kurtosis:</th>       <td>30.414</td>   <th>  Cond. No.          </th>  <td>1.01e+16</td> \n",
       "</tr>\n",
       "</table><br/><br/>Warnings:<br/>[1] Standard Errors assume that the covariance matrix of the errors is correctly specified.<br/>[2] The smallest eigenvalue is 1.73e-18. This might indicate that there are<br/>strong multicollinearity problems or that the design matrix is singular."
      ],
      "text/plain": [
       "<class 'statsmodels.iolib.summary.Summary'>\n",
       "\"\"\"\n",
       "                            OLS Regression Results                            \n",
       "==============================================================================\n",
       "Dep. Variable:                  price   R-squared:                       0.707\n",
       "Model:                            OLS   Adj. R-squared:                  0.707\n",
       "Method:                 Least Squares   F-statistic:                     1666.\n",
       "Date:                Thu, 20 Feb 2020   Prob (F-statistic):               0.00\n",
       "Time:                        14:31:53   Log-Likelihood:            -2.3521e+05\n",
       "No. Observations:               17286   AIC:                         4.705e+05\n",
       "Df Residuals:                   17260   BIC:                         4.707e+05\n",
       "Df Model:                          25                                         \n",
       "Covariance Type:            nonrobust                                         \n",
       "=================================================================================\n",
       "                    coef    std err          t      P>|t|      [0.025      0.975]\n",
       "---------------------------------------------------------------------------------\n",
       "Intercept     -5.623e+07   7.66e+06     -7.340      0.000   -7.13e+07   -4.12e+07\n",
       "bedrooms      -3.547e+04   2136.054    -16.605      0.000   -3.97e+04   -3.13e+04\n",
       "bathrooms      4.055e+04   3564.299     11.377      0.000    3.36e+04    4.75e+04\n",
       "sqft_living     104.0918      2.501     41.617      0.000      99.189     108.994\n",
       "sqft_lot          0.1166      0.050      2.327      0.020       0.018       0.215\n",
       "floors         1.019e+04   3934.916      2.590      0.010    2480.175    1.79e+04\n",
       "waterfront     4.937e+05    2.1e+04     23.465      0.000    4.52e+05    5.35e+05\n",
       "grade          9.917e+04   2365.763     41.918      0.000    9.45e+04    1.04e+05\n",
       "sqft_above       64.9290      2.487     26.112      0.000      60.055      69.803\n",
       "sqft_basement    39.1629      2.890     13.550      0.000      33.498      44.828\n",
       "yr_built       8344.0609   1151.438      7.247      0.000    6087.125    1.06e+04\n",
       "yr_renovated     16.3211      4.016      4.064      0.000       8.449      24.193\n",
       "zipcode        -554.5264     36.130    -15.348      0.000    -625.346    -483.707\n",
       "lat            5.979e+05   1.17e+04     50.933      0.000    5.75e+05    6.21e+05\n",
       "long          -2.112e+05   1.43e+04    -14.780      0.000   -2.39e+05   -1.83e+05\n",
       "sqft_living15    30.3611      3.781      8.030      0.000      22.950      37.772\n",
       "sqft_lot15       -0.2829      0.078     -3.605      0.000      -0.437      -0.129\n",
       "year_sold      1.928e+04   2300.795      8.380      0.000    1.48e+04    2.38e+04\n",
       "age            1.094e+04   1150.747      9.503      0.000    8679.876    1.32e+04\n",
       "month_sold     -101.8405   3882.566     -0.026      0.979   -7712.064    7508.383\n",
       "spring        -8.769e-11   2.72e-11     -3.229      0.001   -1.41e-10   -3.45e-11\n",
       "summer         1.152e-11   2.74e-11      0.421      0.674   -4.21e-11    6.52e-11\n",
       "fall          -4.185e-11   9.18e-12     -4.559      0.000   -5.98e-11   -2.39e-11\n",
       "view_1         1.137e+05   1.24e+04      9.180      0.000    8.94e+04    1.38e+05\n",
       "view_2         6.857e+04   7477.889      9.169      0.000    5.39e+04    8.32e+04\n",
       "view_3         1.271e+05   1.03e+04     12.345      0.000    1.07e+05    1.47e+05\n",
       "view_4         3.121e+05   1.54e+04     20.229      0.000    2.82e+05    3.42e+05\n",
       "condition_2    1736.1530   4.35e+04      0.040      0.968   -8.36e+04    8.71e+04\n",
       "condition_3   -2.207e+04   4.04e+04     -0.546      0.585   -1.01e+05    5.71e+04\n",
       "condition_4    2022.0916   4.04e+04      0.050      0.960   -7.72e+04    8.12e+04\n",
       "condition_5    4.722e+04   4.06e+04      1.162      0.245   -3.25e+04    1.27e+05\n",
       "==============================================================================\n",
       "Omnibus:                    12313.355   Durbin-Watson:                   2.002\n",
       "Prob(Omnibus):                  0.000   Jarque-Bera (JB):           565661.172\n",
       "Skew:                           2.909   Prob(JB):                         0.00\n",
       "Kurtosis:                      30.414   Cond. No.                     1.01e+16\n",
       "==============================================================================\n",
       "\n",
       "Warnings:\n",
       "[1] Standard Errors assume that the covariance matrix of the errors is correctly specified.\n",
       "[2] The smallest eigenvalue is 1.73e-18. This might indicate that there are\n",
       "strong multicollinearity problems or that the design matrix is singular.\n",
       "\"\"\""
      ]
     },
     "execution_count": 108,
     "metadata": {},
     "output_type": "execute_result"
    }
   ],
   "source": [
    "lr_model.summary()"
   ]
  },
  {
   "cell_type": "code",
   "execution_count": 110,
   "metadata": {},
   "outputs": [
    {
     "data": {
      "text/plain": [
       "['bedrooms',\n",
       " 'bathrooms',\n",
       " 'sqft_living',\n",
       " 'sqft_lot',\n",
       " 'floors',\n",
       " 'waterfront',\n",
       " 'grade',\n",
       " 'sqft_above',\n",
       " 'sqft_basement',\n",
       " 'yr_built',\n",
       " 'yr_renovated',\n",
       " 'zipcode',\n",
       " 'lat',\n",
       " 'long',\n",
       " 'sqft_living15',\n",
       " 'sqft_lot15',\n",
       " 'year_sold',\n",
       " 'age',\n",
       " 'month_sold',\n",
       " 'spring',\n",
       " 'summer',\n",
       " 'fall',\n",
       " 'view_1',\n",
       " 'view_2',\n",
       " 'view_3',\n",
       " 'view_4',\n",
       " 'condition_2',\n",
       " 'condition_3',\n",
       " 'condition_4',\n",
       " 'condition_5']"
      ]
     },
     "execution_count": 110,
     "metadata": {},
     "output_type": "execute_result"
    }
   ],
   "source": [
    "my_dummy"
   ]
  },
  {
   "cell_type": "markdown",
   "metadata": {},
   "source": [
    "Lasso"
   ]
  },
  {
   "cell_type": "code",
   "execution_count": 118,
   "metadata": {},
   "outputs": [],
   "source": [
    "X_train,X_test,y_train,y_test = train_test_split(dummies1,df.price, test_size = 0.2,random_state = 0)"
   ]
  },
  {
   "cell_type": "code",
   "execution_count": 119,
   "metadata": {},
   "outputs": [
    {
     "data": {
      "text/plain": [
       "Lasso(alpha=0.1, copy_X=True, fit_intercept=True, max_iter=1000,\n",
       "      normalize=False, positive=False, precompute=False, random_state=None,\n",
       "      selection='cyclic', tol=0.0001, warm_start=False)"
      ]
     },
     "execution_count": 119,
     "metadata": {},
     "output_type": "execute_result"
    }
   ],
   "source": [
    "lasso_01 = Lasso(alpha=0.1)\n",
    "lasso_01.fit(X_train, y_train)\n"
   ]
  },
  {
   "cell_type": "code",
   "execution_count": 120,
   "metadata": {},
   "outputs": [],
   "source": [
    "y_predict = lasso_01.predict(X_test)\n"
   ]
  },
  {
   "cell_type": "code",
   "execution_count": 122,
   "metadata": {},
   "outputs": [
    {
     "name": "stdout",
     "output_type": "stream",
     "text": [
      "2.819874717667012e-07\n",
      "7.654276344800622e-13\n"
     ]
    }
   ],
   "source": [
    "my_rsme = np.sqrt(metrics.mean_squared_error(y_test, y_predict))\n",
    "print(my_rsme)\n",
    "print(my_rsme/y_test.std())"
   ]
  },
  {
   "cell_type": "code",
   "execution_count": null,
   "metadata": {},
   "outputs": [],
   "source": []
  }
 ],
 "metadata": {
  "kernelspec": {
   "display_name": "Python [conda env:learn-env] *",
   "language": "python",
   "name": "conda-env-learn-env-py"
  },
  "language_info": {
   "codemirror_mode": {
    "name": "ipython",
    "version": 3
   },
   "file_extension": ".py",
   "mimetype": "text/x-python",
   "name": "python",
   "nbconvert_exporter": "python",
   "pygments_lexer": "ipython3",
   "version": "3.6.9"
  },
  "toc": {
   "base_numbering": 1,
   "nav_menu": {},
   "number_sections": true,
   "sideBar": true,
   "skip_h1_title": false,
   "title_cell": "Table of Contents",
   "title_sidebar": "Contents",
   "toc_cell": false,
   "toc_position": {},
   "toc_section_display": true,
   "toc_window_display": false
  }
 },
 "nbformat": 4,
 "nbformat_minor": 2
}
